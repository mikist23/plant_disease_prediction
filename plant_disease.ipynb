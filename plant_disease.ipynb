{
 "cells": [
  {
   "cell_type": "code",
   "execution_count": 1,
   "metadata": {},
   "outputs": [
    {
     "name": "stdout",
     "output_type": "stream",
     "text": [
      "Hello\n"
     ]
    }
   ],
   "source": [
    "import numpy as np\n",
    "import matplotlip.pyplot as plt\n",
    "import tensorflow \n",
    "import unittest\n",
    "from sklearn.model_selection import train_test_split"
   ]
  },
  {
   "cell_type": "code",
   "execution_count": null,
   "metadata": {},
   "outputs": [],
   "source": [
    "import streamlit as st"
   ]
  },
  {
   "cell_type": "code",
   "execution_count": null,
   "metadata": {},
   "outputs": [],
   "source": [
    "# UI Settings\n",
    "st.set_page_config(page_title=\"PDF Summarizer\")\n",
    "st.title(\"PDF Summarizer\")\n",
    "st.write(\"Summarize your PDF files using the power of LLMs\")\n",
    "st.divider()\n",
    "from shiny import module, reactive, render, ui\n",
    "\n",
    "# ============================================================\n",
    "# Module: modname\n",
    "# ============================================================\n",
    "\n",
    "@module.ui\n",
    "def modname_ui(label = \"Increment counter\"):\n",
    "    return ui.div(\n",
    "        {\"style\": \"border: 1px solid #ccc; border-radius: 5px; margin: 5px 0;\"},\n",
    "        ui.h2(\"This is \" + label),\n",
    "        ui.input_action_button(id=\"button\", label=label),\n",
    "        ui.output_text_verbatim(id=\"out\"),\n",
    "    )\n",
    "\n",
    "\n",
    "@module.server\n",
    "def modname_server(input, output, session, starting_value = 0):\n",
    "    count = reactive.value(starting_value)\n",
    "\n",
    "    @reactive.effect\n",
    "    @reactive.event(input.button)\n",
    "    def _():\n",
    "        count.set(count() + 1)\n",
    "\n",
    "    @render.text\n",
    "    def out() -> str:\n",
    "        return f\"Click count is {count()}\"\n"
   ]
  },
  {
   "cell_type": "code",
   "execution_count": null,
   "metadata": {},
   "outputs": [],
   "source": [
    "# Check on image types\n",
    "image_exts = ['jpeg','jpg','bmp','png']\n",
    "image_exts"
   ]
  }
 ],
 "metadata": {
  "kernelspec": {
   "display_name": "Python 3",
   "language": "python",
   "name": "python3"
  },
  "language_info": {
   "codemirror_mode": {
    "name": "ipython",
    "version": 3
   },
   "file_extension": ".py",
   "mimetype": "text/x-python",
   "name": "python",
   "nbconvert_exporter": "python",
   "pygments_lexer": "ipython3",
   "version": "3.12.2"
  }
 },
 "nbformat": 4,
 "nbformat_minor": 2
}
